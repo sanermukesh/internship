{
 "cells": [
  {
   "cell_type": "code",
   "execution_count": null,
   "id": "a1dff54f",
   "metadata": {},
   "outputs": [],
   "source": [
    "#QUE 1\n",
    "write a python propgram  to check that a string contains only a certain set of character in case of a-z , A-Z, 0-9"
   ]
  },
  {
   "cell_type": "code",
   "execution_count": null,
   "id": "247cdda0",
   "metadata": {},
   "outputs": [],
   "source": []
  },
  {
   "cell_type": "code",
   "execution_count": 4,
   "id": "17fffdf4",
   "metadata": {},
   "outputs": [
    {
     "name": "stdout",
     "output_type": "stream",
     "text": [
      "Found a match!\n",
      "Found a match!\n"
     ]
    }
   ],
   "source": [
    "import re\n",
    "def text_match(text):\n",
    "        patterns = 'ab{3}?'\n",
    "        if re.search(patterns,  text):\n",
    "                return 'Found a match!'\n",
    "        else:\n",
    "                return('Not matched!')\n",
    "\n",
    "print(text_match(\"abbb\"))\n",
    "print(text_match(\"aabbbbbc\"))"
   ]
  },
  {
   "cell_type": "markdown",
   "id": "4fffcc29",
   "metadata": {},
   "source": []
  },
  {
   "cell_type": "code",
   "execution_count": null,
   "id": "d3a7bd79",
   "metadata": {},
   "outputs": [],
   "source": [
    "#que 6\n",
    "write a regular expression in python to  split a string into uppercase letter"
   ]
  },
  {
   "cell_type": "code",
   "execution_count": null,
   "id": "8e3ee614",
   "metadata": {},
   "outputs": [],
   "source": []
  },
  {
   "cell_type": "code",
   "execution_count": null,
   "id": "3c1bfd54",
   "metadata": {},
   "outputs": [],
   "source": [
    "#que 7 \n",
    " write a python program that match a string that has an 'a' followed by anything ending in \"b\""
   ]
  },
  {
   "cell_type": "code",
   "execution_count": 1,
   "id": "ba63544f",
   "metadata": {},
   "outputs": [
    {
     "name": "stdout",
     "output_type": "stream",
     "text": [
      "Not matched!\n",
      "Not matched!\n",
      "Found a match!\n"
     ]
    }
   ],
   "source": [
    "import re\n",
    "def text_match(text):\n",
    "        patterns = 'a.*?b$'\n",
    "        if re.search(patterns,  text):\n",
    "                return 'Found a match!'\n",
    "        else:\n",
    "                return('Not matched!')\n",
    "\n",
    "print(text_match(\"aabbbbd\"))\n",
    "print(text_match(\"aabAbbbc\"))\n",
    "print(text_match(\"accddbbjjjb\"))\n"
   ]
  },
  {
   "cell_type": "code",
   "execution_count": null,
   "id": "2238b08d",
   "metadata": {},
   "outputs": [],
   "source": [
    "#que 8 \n",
    "write a python program to write a sequence \n",
    "of lowercase letter joined with a underscore"
   ]
  },
  {
   "cell_type": "code",
   "execution_count": 2,
   "id": "6b3ddfb3",
   "metadata": {},
   "outputs": [
    {
     "name": "stdout",
     "output_type": "stream",
     "text": [
      "Found a match!\n",
      "Not matched!\n",
      "Not matched!\n"
     ]
    }
   ],
   "source": [
    "import re\n",
    "def text_match(text):\n",
    "        patterns = '^[a-z]+_[a-z]+$'\n",
    "        if re.search(patterns,  text):\n",
    "                return 'Found a match!'\n",
    "        else:\n",
    "                return('Not matched!')\n",
    "\n",
    "print(text_match(\"aab_cbbbc\"))\n",
    "print(text_match(\"aab_Abbbc\"))\n",
    "print(text_match(\"Aaab_abbbc\"))"
   ]
  },
  {
   "cell_type": "code",
   "execution_count": null,
   "id": "ff04e8f3",
   "metadata": {},
   "outputs": [],
   "source": [
    "#que 9 \n",
    "write a pyhthon program that match a string that has an \"a\" followed by anything ending in b"
   ]
  },
  {
   "cell_type": "code",
   "execution_count": 5,
   "id": "b2a6463c",
   "metadata": {},
   "outputs": [
    {
     "name": "stdout",
     "output_type": "stream",
     "text": [
      "Not matched!\n",
      "Not matched!\n",
      "Found a match!\n"
     ]
    }
   ],
   "source": [
    "import re\n",
    "def text_match(text):\n",
    "        patterns = 'a.*?b$'\n",
    "        if re.search(patterns,  text):\n",
    "                return 'Found a match!'\n",
    "        else:\n",
    "                return('Not matched!')\n",
    "\n",
    "print(text_match(\"aabbbbd\"))\n",
    "print(text_match(\"aabAbbbc\"))\n",
    "print(text_match(\"accddbbjjjb\"))"
   ]
  },
  {
   "cell_type": "code",
   "execution_count": null,
   "id": "b78b1d0e",
   "metadata": {},
   "outputs": [],
   "source": [
    "#que 10\n",
    "Write a Python program that matches a word at the beginning of a string."
   ]
  },
  {
   "cell_type": "code",
   "execution_count": 6,
   "id": "7f298609",
   "metadata": {},
   "outputs": [
    {
     "name": "stdout",
     "output_type": "stream",
     "text": [
      "Found a match!\n",
      "Not matched!\n"
     ]
    }
   ],
   "source": [
    "import re\n",
    "def text_match(text):\n",
    "        patterns = '^\\w+'\n",
    "        if re.search(patterns,  text):\n",
    "                return 'Found a match!'\n",
    "        else:\n",
    "                return('Not matched!')\n",
    "\n",
    "print(text_match(\"The quick brown fox jumps over the lazy dog.\"))\n",
    "print(text_match(\" The quick brown fox jumps over the lazy dog.\"))\n"
   ]
  },
  {
   "cell_type": "code",
   "execution_count": null,
   "id": "5fb51e1c",
   "metadata": {},
   "outputs": [],
   "source": [
    " #que 11\n",
    "    Write a Python program to match a string that contains only upper and lowercase letters, numbers, and underscores."
   ]
  },
  {
   "cell_type": "code",
   "execution_count": 8,
   "id": "742e541a",
   "metadata": {},
   "outputs": [
    {
     "name": "stdout",
     "output_type": "stream",
     "text": [
      "Not matched!\n",
      "Found a match!\n"
     ]
    }
   ],
   "source": [
    "import re\n",
    "def text_match(text):\n",
    "        patterns = '^[a-zA-Z0-9_]*$'\n",
    "        if re.search(patterns,  text):\n",
    "                return 'Found a match!'\n",
    "        else:\n",
    "                return('Not matched!')\n",
    "\n",
    "print(text_match(\"The quick brown fox jumps over the lazy dog.\"))\n",
    "print(text_match(\"Python_Exercises_1\"))"
   ]
  },
  {
   "cell_type": "code",
   "execution_count": null,
   "id": "10586c4b",
   "metadata": {},
   "outputs": [],
   "source": [
    "# que 12\n",
    "Write a Python program that starts each string with a specific number.\n",
    "\n"
   ]
  },
  {
   "cell_type": "code",
   "execution_count": 9,
   "id": "ea47799f",
   "metadata": {},
   "outputs": [
    {
     "name": "stdout",
     "output_type": "stream",
     "text": [
      "True\n",
      "False\n"
     ]
    }
   ],
   "source": [
    "import re\n",
    "def match_num(string):\n",
    "    text = re.compile(r\"^5\")\n",
    "    if text.match(string):\n",
    "        return True\n",
    "    else:\n",
    "        return False\n",
    "print(match_num('5-2345861'))\n",
    "print(match_num('6-2345861'))"
   ]
  },
  {
   "cell_type": "code",
   "execution_count": null,
   "id": "56bc416c",
   "metadata": {},
   "outputs": [],
   "source": [
    "#13 que\n",
    "Write a Python program to remove leading zeros from an IP address."
   ]
  },
  {
   "cell_type": "code",
   "execution_count": 10,
   "id": "9433917c",
   "metadata": {},
   "outputs": [
    {
     "name": "stdout",
     "output_type": "stream",
     "text": [
      "216.8.94.196\n"
     ]
    }
   ],
   "source": [
    "import re\n",
    "ip = \"216.08.094.196\"\n",
    "string = re.sub('\\.[0]*', '.', ip)\n",
    "print(string)"
   ]
  },
  {
   "cell_type": "code",
   "execution_count": null,
   "id": "ff4d7947",
   "metadata": {},
   "outputs": [],
   "source": [
    "#que 14\n"
   ]
  },
  {
   "cell_type": "code",
   "execution_count": null,
   "id": "b327a5d4",
   "metadata": {},
   "outputs": [],
   "source": [
    "#que 15\n"
   ]
  },
  {
   "cell_type": "code",
   "execution_count": null,
   "id": "b928ad5b",
   "metadata": {},
   "outputs": [],
   "source": []
  },
  {
   "cell_type": "code",
   "execution_count": null,
   "id": "8548986d",
   "metadata": {},
   "outputs": [],
   "source": [
    "#que 15\n",
    "Write aPython program to search for literal strings within a string.\n",
    "Sample text : 'The quick brown fox jumps over the lazy dog.'\n",
    "Searched words : 'og', 'horse'"
   ]
  },
  {
   "cell_type": "code",
   "execution_count": 11,
   "id": "66834e80",
   "metadata": {},
   "outputs": [
    {
     "ename": "SyntaxError",
     "evalue": "invalid syntax (3660614544.py, line 1)",
     "output_type": "error",
     "traceback": [
      "\u001b[1;36m  File \u001b[1;32m\"C:\\Users\\Admin\\AppData\\Local\\Temp\\ipykernel_3656\\3660614544.py\"\u001b[1;36m, line \u001b[1;32m1\u001b[0m\n\u001b[1;33m    t re\u001b[0m\n\u001b[1;37m      ^\u001b[0m\n\u001b[1;31mSyntaxError\u001b[0m\u001b[1;31m:\u001b[0m invalid syntax\n"
     ]
    }
   ],
   "source": [
    "t re\n",
    "patterns = [ 'fox', 'dog', 'horse' ]\n",
    "text = 'The quick brown fox jumps over the lazy dog.'\n",
    "for pattern in patterns:\n",
    "    print('Searching for \"%s\" in \"%s\" ->' % (pattern, text),)\n",
    "    if re.search(pattern,  text):\n",
    "        print('Matched!')\n",
    "    else:\n",
    "        print('Not Matched!')"
   ]
  },
  {
   "cell_type": "code",
   "execution_count": null,
   "id": "0522201f",
   "metadata": {},
   "outputs": [],
   "source": [
    "# que17\n",
    "Write a Python program to find the substrings within a string.\n",
    "\n",
    "Sample text:\n",
    "'Python exercises, PHP exercises, C# exercises'\n",
    "Pattern:'exercises'"
   ]
  },
  {
   "cell_type": "code",
   "execution_count": 1,
   "id": "1e495d57",
   "metadata": {},
   "outputs": [
    {
     "name": "stdout",
     "output_type": "stream",
     "text": [
      "Found \"exercises\"\n",
      "Found \"exercises\"\n",
      "Found \"exercises\"\n"
     ]
    }
   ],
   "source": [
    "import re\n",
    "text = 'Python exercises, PHP exercises, C# exercises'\n",
    "pattern = 'exercises'\n",
    "for match in re.findall(pattern, text):\n",
    "    print('Found \"%s\"' % match)"
   ]
  },
  {
   "cell_type": "code",
   "execution_count": null,
   "id": "66532a71",
   "metadata": {},
   "outputs": [],
   "source": [
    "que 18\n",
    "write a python program to find the occurance and the occurence and position of substring within a string"
   ]
  },
  {
   "cell_type": "code",
   "execution_count": 2,
   "id": "a21dc60d",
   "metadata": {},
   "outputs": [
    {
     "name": "stdout",
     "output_type": "stream",
     "text": [
      "Found \"exercises\" at 7:16\n",
      "Found \"exercises\" at 22:31\n",
      "Found \"exercises\" at 36:45\n"
     ]
    }
   ],
   "source": [
    "import re\n",
    "text = 'Python exercises, PHP exercises, C# exercises'\n",
    "pattern = 'exercises'\n",
    "for match in re.finditer(pattern, text):\n",
    "    s = match.start()\n",
    "    e = match.end()\n",
    "    print('Found \"%s\" at %d:%d' % (text[s:e], s, e))"
   ]
  },
  {
   "cell_type": "code",
   "execution_count": null,
   "id": "0e54ad0d",
   "metadata": {},
   "outputs": [],
   "source": [
    " que 19\n",
    "    write a python program to convert adate of yyyy-mm-dd format to dd-mm-yyyy format"
   ]
  },
  {
   "cell_type": "code",
   "execution_count": 4,
   "id": "7605be7c",
   "metadata": {},
   "outputs": [
    {
     "name": "stdout",
     "output_type": "stream",
     "text": [
      "Original date in YYY-MM-DD Format:  2026-01-02\n",
      "New date in DD-MM-YYYY Format:  02-01-2026\n"
     ]
    }
   ],
   "source": [
    "import re\n",
    "def change_date_format(dt):\n",
    "        return re.sub(r'(\\d{4})-(\\d{1,2})-(\\d{1,2})', '\\\\3-\\\\2-\\\\1', dt)\n",
    "dt1 = \"2026-01-02\"\n",
    "print(\"Original date in YYY-MM-DD Format: \",dt1)\n",
    "print(\"New date in DD-MM-YYYY Format: \",change_date_format(dt1))\n"
   ]
  },
  {
   "cell_type": "code",
   "execution_count": null,
   "id": "13b12584",
   "metadata": {},
   "outputs": [],
   "source": [
    "que 20\n",
    "write a python program to find all words  starting with a or e  in given string"
   ]
  },
  {
   "cell_type": "code",
   "execution_count": 1,
   "id": "f9ff1a60",
   "metadata": {},
   "outputs": [
    {
     "name": "stdout",
     "output_type": "stream",
     "text": [
      "['example', 'eates', 'an', 'ayList', 'apacity', 'elements', 'elements', 'are', 'en', 'added', 'ayList', 'and', 'ayList', 'ed', 'accordingly']\n"
     ]
    }
   ],
   "source": [
    "import re\n",
    "# Input.\n",
    "text = \"The following example creates an ArrayList with a capacity of 50 elements. Four elements are then added to the ArrayList and the ArrayList is trimmed accordingly.\"\n",
    "#find all the words starting with 'a' or 'e'\n",
    "list = re.findall(\"[ae]\\w+\", text)\n",
    "# Print result.\n",
    "print(list)"
   ]
  },
  {
   "cell_type": "code",
   "execution_count": null,
   "id": "405eabff",
   "metadata": {},
   "outputs": [],
   "source": [
    "#que 21\n",
    "- Write a Python program to separate and print the numbers and their position of a given\n",
    "string.\n"
   ]
  },
  {
   "cell_type": "code",
   "execution_count": 1,
   "id": "4bda0adc",
   "metadata": {},
   "outputs": [
    {
     "name": "stdout",
     "output_type": "stream",
     "text": [
      "50\n",
      "Index position: 62\n"
     ]
    }
   ],
   "source": [
    "import re\n",
    "# Input.\n",
    "text = \"The following example creates an ArrayList with a capacity of 50 elements. Four elements are then added to the ArrayList and the ArrayList is trimmed accordingly.\"\n",
    "\n",
    "for m in re.finditer(\"\\d+\", text):\n",
    "    print(m.group(0))\n",
    "    print(\"Index position:\", m.start())"
   ]
  },
  {
   "cell_type": "code",
   "execution_count": null,
   "id": "969898a7",
   "metadata": {},
   "outputs": [],
   "source": [
    "#que 22\n",
    " Write a regular expression in python program to extract maximum numeric value from a\n",
    "string"
   ]
  },
  {
   "cell_type": "code",
   "execution_count": null,
   "id": "bcfb0033",
   "metadata": {},
   "outputs": [],
   "source": [
    "que 23"
   ]
  },
  {
   "cell_type": "code",
   "execution_count": 2,
   "id": "ca261c3b",
   "metadata": {},
   "outputs": [
    {
     "name": "stdout",
     "output_type": "stream",
     "text": [
      "Python\n",
      "Python Exercises\n",
      "Python Exercises Practice Solution\n"
     ]
    }
   ],
   "source": [
    "import re\n",
    "def capital_words_spaces(str1):\n",
    "  return re.sub(r\"(\\w)([A-Z])\", r\"\\1 \\2\", str1)\n",
    "\n",
    "print(capital_words_spaces(\"Python\"))\n",
    "print(capital_words_spaces(\"PythonExercises\"))\n",
    "print(capital_words_spaces(\"PythonExercisesPracticeSolution\"))\n"
   ]
  },
  {
   "cell_type": "code",
   "execution_count": null,
   "id": "3d4d0c1b",
   "metadata": {},
   "outputs": [],
   "source": [
    "QUE 24\n",
    "python regex to find out sequence out one uppercase letter fromm lower case letter ."
   ]
  },
  {
   "cell_type": "code",
   "execution_count": 3,
   "id": "ddebe98a",
   "metadata": {},
   "outputs": [
    {
     "name": "stdout",
     "output_type": "stream",
     "text": [
      "Found a match!\n",
      "Found a match!\n",
      "Not matched!\n",
      "Not matched!\n",
      "Not matched!\n",
      "Found a match!\n"
     ]
    }
   ],
   "source": [
    "import re\n",
    "def text_match(text):\n",
    "        patterns = '[A-Z]+[a-z]+$'\n",
    "        if re.search(patterns, text):\n",
    "                return 'Found a match!'\n",
    "        else:\n",
    "                return('Not matched!')\n",
    "print(text_match(\"AaBbGg\"))\n",
    "print(text_match(\"Python\"))\n",
    "print(text_match(\"python\"))\n",
    "print(text_match(\"PYTHON\"))\n",
    "print(text_match(\"aA\"))\n",
    "print(text_match(\"Aa\"))\n"
   ]
  },
  {
   "cell_type": "code",
   "execution_count": null,
   "id": "2136f7dd",
   "metadata": {},
   "outputs": [],
   "source": []
  },
  {
   "cell_type": "code",
   "execution_count": null,
   "id": "230f0067",
   "metadata": {},
   "outputs": [],
   "source": []
  },
  {
   "cell_type": "code",
   "execution_count": null,
   "id": "312adb99",
   "metadata": {},
   "outputs": [],
   "source": []
  },
  {
   "cell_type": "code",
   "execution_count": null,
   "id": "651aa173",
   "metadata": {},
   "outputs": [],
   "source": []
  },
  {
   "cell_type": "code",
   "execution_count": null,
   "id": "6eacc50e",
   "metadata": {},
   "outputs": [],
   "source": []
  },
  {
   "cell_type": "code",
   "execution_count": null,
   "id": "db6c3898",
   "metadata": {},
   "outputs": [],
   "source": []
  },
  {
   "cell_type": "code",
   "execution_count": null,
   "id": "e5bbdd38",
   "metadata": {},
   "outputs": [],
   "source": []
  },
  {
   "cell_type": "code",
   "execution_count": null,
   "id": "e0285190",
   "metadata": {},
   "outputs": [],
   "source": []
  },
  {
   "cell_type": "code",
   "execution_count": null,
   "id": "4931afbf",
   "metadata": {},
   "outputs": [],
   "source": []
  }
 ],
 "metadata": {
  "kernelspec": {
   "display_name": "Python 3 (ipykernel)",
   "language": "python",
   "name": "python3"
  },
  "language_info": {
   "codemirror_mode": {
    "name": "ipython",
    "version": 3
   },
   "file_extension": ".py",
   "mimetype": "text/x-python",
   "name": "python",
   "nbconvert_exporter": "python",
   "pygments_lexer": "ipython3",
   "version": "3.9.13"
  }
 },
 "nbformat": 4,
 "nbformat_minor": 5
}
